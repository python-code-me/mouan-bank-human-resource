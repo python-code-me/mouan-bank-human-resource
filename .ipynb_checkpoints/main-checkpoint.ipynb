{
 "cells": [
  {
   "cell_type": "markdown",
   "metadata": {},
   "source": [
    "# mouan-bank-it-human-resource\n",
    "\n",
    "## 项目简介\n",
    "\n",
    "对某安银行IT人力资源数据信息进行分析，以发现IT人员的有趣特征。\n",
    "\n",
    "## 数据来源\n",
    "\n",
    "仿真生成。\n",
    "\n",
    "## 项目主要组成部分\n",
    "\n",
    "* 第一部分：数据生成\n",
    "* 第二部分：特征分析（包括：数据统计分析，数据可视化）\n",
    "\n",
    "## 项目运行方法\n",
    "\n",
    "使用Anacodna-Navigator中的Notebook或者JupyterLab打开和运行文件：main.ipynb。"
   ]
  },
  {
   "cell_type": "markdown",
   "metadata": {},
   "source": [
    "# 第一部分：数据生成"
   ]
  },
  {
   "cell_type": "markdown",
   "metadata": {},
   "source": [
    "import pandas as pd\n",
    "import numpy as np"
   ]
  },
  {
   "cell_type": "markdown",
   "metadata": {},
   "source": [
    "# 第二部分：特征分析（包括：数据统计分析，数据可视化）"
   ]
  },
  {
   "cell_type": "code",
   "execution_count": null,
   "metadata": {},
   "outputs": [],
   "source": []
  }
 ],
 "metadata": {
  "kernelspec": {
   "display_name": "Python 3",
   "language": "python",
   "name": "python3"
  },
  "language_info": {
   "codemirror_mode": {
    "name": "ipython",
    "version": 3
   },
   "file_extension": ".py",
   "mimetype": "text/x-python",
   "name": "python",
   "nbconvert_exporter": "python",
   "pygments_lexer": "ipython3",
   "version": "3.8.8"
  }
 },
 "nbformat": 4,
 "nbformat_minor": 2
}
